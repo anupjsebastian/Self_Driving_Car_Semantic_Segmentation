{
 "cells": [
  {
   "cell_type": "markdown",
   "metadata": {},
   "source": [
    "# Image Preprocessor"
   ]
  },
  {
   "cell_type": "code",
   "execution_count": 1,
   "metadata": {},
   "outputs": [],
   "source": [
    "import os\n",
    "from PIL import Image , ImageOps, ImageFile\n",
    "# ImageFile.LOAD_TRUNCATED_IMAGES = True"
   ]
  },
  {
   "cell_type": "code",
   "execution_count": 2,
   "metadata": {},
   "outputs": [],
   "source": [
    "MAPILLARY_DATASET = '/home/anupjsebastian/mapillary_dataset'"
   ]
  },
  {
   "cell_type": "code",
   "execution_count": 3,
   "metadata": {},
   "outputs": [],
   "source": [
    "# set num_images = 'all' to process all images\n",
    "num_train_images = 5000\n",
    "num_val_images = 300\n",
    "num_test_images = 500\n",
    "img_size = (256, 256)"
   ]
  },
  {
   "cell_type": "markdown",
   "metadata": {},
   "source": [
    "## Create folders to hold images and labels"
   ]
  },
  {
   "cell_type": "code",
   "execution_count": 4,
   "metadata": {},
   "outputs": [],
   "source": [
    "#Parent Directory\n",
    "parent_folder = 'resized_' + str(img_size[0])\n",
    "parent_folder_path = os.path.join(MAPILLARY_DATASET,parent_folder)\n",
    "try:\n",
    "    os.makedirs(parent_folder_path)\n",
    "except:\n",
    "    print('Folder', parent_folder, 'already exists')\n",
    "    "
   ]
  },
  {
   "cell_type": "code",
   "execution_count": 5,
   "metadata": {},
   "outputs": [],
   "source": [
    "# Subdirectories\n",
    "folders = ['training/images', 'training/labels', 'validation/images', 'validation/labels', 'testing/images']\n",
    "for folder in folders:\n",
    "    try:\n",
    "        os.makedirs(os.path.join(MAPILLARY_DATASET,parent_folder, folder))\n",
    "    except:\n",
    "        print('Folder already exists')"
   ]
  },
  {
   "cell_type": "code",
   "execution_count": 6,
   "metadata": {},
   "outputs": [
    {
     "name": "stdout",
     "output_type": "stream",
     "text": [
      "New Parent Directory Located at: /home/anupjsebastian/mapillary_dataset/resized_256\n"
     ]
    }
   ],
   "source": [
    "print(\"New Parent Directory Located at:\", parent_folder_path)"
   ]
  },
  {
   "cell_type": "markdown",
   "metadata": {},
   "source": [
    "## Resize and save images in correct directories "
   ]
  },
  {
   "cell_type": "code",
   "execution_count": 8,
   "metadata": {},
   "outputs": [],
   "source": [
    "for folder in folders:\n",
    "    folder_path = os.path.join(MAPILLARY_DATASET, folder)\n",
    "    filenames = sorted(os.listdir(folder_path))\n",
    "    \n",
    "    if 'training' in folder_path:\n",
    "        num_images = num_train_images\n",
    "    elif 'validation' in folder_path:\n",
    "        num_images = num_val_images\n",
    "    elif 'testing' in folder_path:\n",
    "        num_images = num_test_images\n",
    "    \n",
    "    \n",
    "    if num_images == 'all':\n",
    "        \n",
    "        for file in filenames:\n",
    "\n",
    "            file_path = os.path.join(folder_path, file)\n",
    "            image = Image.open(file_path).resize(img_size)\n",
    "            image.save(os.path.join(parent_folder_path, folder, file))\n",
    "    else:\n",
    "        \n",
    "        for file in filenames[0: num_images]:\n",
    "\n",
    "            file_path = os.path.join(folder_path, file)\n",
    "            image = Image.open(file_path).resize(img_size)\n",
    "            image.save(os.path.join(parent_folder_path, folder, file))\n"
   ]
  },
  {
   "cell_type": "code",
   "execution_count": null,
   "metadata": {},
   "outputs": [],
   "source": []
  }
 ],
 "metadata": {
  "kernelspec": {
   "display_name": "Python 3",
   "language": "python",
   "name": "python3"
  },
  "language_info": {
   "codemirror_mode": {
    "name": "ipython",
    "version": 3
   },
   "file_extension": ".py",
   "mimetype": "text/x-python",
   "name": "python",
   "nbconvert_exporter": "python",
   "pygments_lexer": "ipython3",
   "version": "3.7.6"
  }
 },
 "nbformat": 4,
 "nbformat_minor": 4
}
